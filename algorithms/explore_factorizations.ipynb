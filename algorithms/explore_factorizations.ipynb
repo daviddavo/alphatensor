{
  "cells": [
    {
      "cell_type": "markdown",
      "metadata": {
        "id": "ZZxhwHjOvnWF"
      },
      "source": [
        "Loading factorizations found by AlphaTensor and recombination.\n",
        "\n",
        "- Copyright 2022 DeepMind Technologies Limited\n",
        "- All software is licensed under the Apache License, Version 2.0 (Apache 2.0); you may not use this file except in compliance with the Apache 2.0 license. You may obtain a copy of the Apache 2.0 license at: https://www.apache.org/licenses/LICENSE-2.0\n",
        "- All other materials are licensed under the Creative Commons Attribution 4.0 International License (CC-BY).  You may obtain a copy of the CC-BY license at: https://creativecommons.org/licenses/by/4.0/legalcode\n",
        "- Unless required by applicable law or agreed to in writing, all software and materials distributed here under the Apache 2.0 or CC-BY licenses are distributed on an \"AS IS\" BASIS, WITHOUT WARRANTIES OR CONDITIONS OF ANY KIND, either express or implied. See the licenses for the specific language governing permissions and limitations under those licenses.\n",
        "- This is not an official Google product."
      ]
    },
    {
      "cell_type": "code",
      "execution_count": 1,
      "metadata": {
        "id": "Lv32k_zmYXta"
      },
      "outputs": [],
      "source": [
        "import numpy as np\n",
        "# from google.colab import files"
      ]
    },
    {
      "cell_type": "markdown",
      "metadata": {
        "id": "fpWZeG2V3ZV0"
      },
      "source": [
        "Upload one of the two files provided in the same folder: `factorization_r.npz` (algorithms in standard arithmetic) or `factorization_f2.npz` (algorithms in arithmetic modulo 2)."
      ]
    },
    {
      "cell_type": "code",
      "execution_count": 2,
      "metadata": {
        "id": "FrXikWaPYO1n"
      },
      "outputs": [],
      "source": [
        "# uploaded = files.upload()\n",
        "# filename = list(uploaded.keys())[0]\n",
        "filename = \"factorizations_r.npz\"\n",
        "with open(filename, 'rb') as f:\n",
        "  factorizations = dict(np.load(f, allow_pickle=True))"
      ]
    },
    {
      "cell_type": "code",
      "execution_count": 3,
      "metadata": {
        "id": "AKiXSgk0YVRn"
      },
      "outputs": [
        {
          "name": "stdout",
          "output_type": "stream",
          "text": [
            "2,2,2: \trank=7\tsums:22\n",
            "2,2,3: \trank=11\tsums:25\n",
            "2,2,4: \trank=14\tsums:48\n",
            "2,2,5: \trank=18\tsums:65\n",
            "2,2,6: \trank=21\tsums:54\n",
            "2,2,7: \trank=25\tsums:75\n",
            "2,2,8: \trank=28\tsums:103\n",
            "2,3,3: \trank=15\tsums:58\n",
            "2,3,4: \trank=20\tsums:88\n",
            "2,3,5: \trank=25\tsums:113\n",
            "2,4,4: \trank=26\tsums:122\n",
            "2,4,5: \trank=33\tsums:200\n",
            "2,5,5: \trank=40\tsums:283\n",
            "3,3,3: \trank=23\tsums:110\n",
            "3,3,4: \trank=29\tsums:148\n",
            "3,3,5: \trank=36\tsums:185\n",
            "3,4,4: \trank=38\tsums:204\n",
            "3,4,5: \trank=47\tsums:293\n",
            "3,4,11: \trank=103\tsums:708\n",
            "3,5,5: \trank=58\tsums:369\n",
            "3,5,9: \trank=105\tsums:665\n",
            "3,9,11: \trank=225\tsums:3299\n",
            "4,4,4: \trank=49\tsums:468\n",
            "4,4,5: \trank=63\tsums:473\n",
            "4,5,5: \trank=76\tsums:549\n",
            "4,5,9: \trank=139\tsums:1026\n",
            "4,5,10: \trank=152\tsums:1568\n",
            "4,5,11: \trank=169\tsums:1226\n",
            "4,9,10: \trank=255\tsums:3104\n",
            "4,9,11: \trank=280\tsums:3568\n",
            "4,11,11: \trank=343\tsums:4426\n",
            "4,11,12: \trank=366\tsums:4864\n",
            "5,5,5: \trank=98\tsums:643\n",
            "5,5,7: \trank=134\tsums:918\n",
            "5,7,9: \trank=234\tsums:2613\n",
            "5,7,10: \trank=257\tsums:3048\n",
            "5,7,11: \trank=280\tsums:6174\n",
            "5,8,9: \trank=262\tsums:3203\n",
            "5,8,10: \trank=287\tsums:3752\n",
            "5,8,11: \trank=317\tsums:4503\n",
            "5,9,9: \trank=296\tsums:3767\n",
            "5,9,10: \trank=323\tsums:4281\n",
            "5,9,11: \trank=358\tsums:4655\n",
            "5,9,12: \trank=381\tsums:5205\n",
            "6,7,9: \trank=270\tsums:3343\n",
            "6,7,10: \trank=296\tsums:3825\n",
            "6,7,11: \trank=322\tsums:6663\n",
            "6,8,10: \trank=329\tsums:4654\n",
            "6,8,11: \trank=365\tsums:5577\n",
            "6,9,9: \trank=342\tsums:4597\n",
            "6,9,10: \trank=373\tsums:5160\n",
            "6,9,11: \trank=411\tsums:5887\n",
            "7,7,9: \trank=318\tsums:4380\n",
            "7,7,10: \trank=350\tsums:4806\n",
            "7,7,11: \trank=384\tsums:6172\n",
            "7,8,9: \trank=354\tsums:4636\n",
            "7,8,10: \trank=393\tsums:6072\n",
            "7,8,11: \trank=432\tsums:5872\n",
            "7,8,12: \trank=462\tsums:6211\n",
            "7,9,9: \trank=399\tsums:5534\n",
            "7,9,10: \trank=441\tsums:5854\n",
            "7,9,11: \trank=481\tsums:13843\n",
            "7,9,12: \trank=510\tsums:13716\n",
            "7,10,10: \trank=478\tsums:7008\n",
            "7,10,11: \trank=536\tsums:9956\n",
            "7,11,11: \trank=582\tsums:12849\n",
            "8,8,10: \trank=441\tsums:7704\n",
            "8,8,11: \trank=489\tsums:6781\n",
            "8,9,10: \trank=489\tsums:7088\n",
            "8,9,11: \trank=533\tsums:18829\n",
            "8,9,12: \trank=560\tsums:23328\n",
            "8,10,10: \trank=532\tsums:8410\n",
            "8,10,11: \trank=596\tsums:10504\n",
            "8,10,12: \trank=636\tsums:11701\n",
            "8,11,11: \trank=649\tsums:12960\n",
            "8,11,12: \trank=691\tsums:15262\n",
            "9,9,9: \trank=498\tsums:18289\n",
            "9,9,10: \trank=534\tsums:19898\n",
            "9,9,11: \trank=576\tsums:21515\n",
            "9,10,10: \trank=606\tsums:8622\n",
            "9,10,11: \trank=657\tsums:17633\n",
            "9,10,12: \trank=696\tsums:24394\n",
            "9,11,11: \trank=725\tsums:23980\n",
            "9,11,12: \trank=760\tsums:32076\n",
            "10,10,10: \trank=682\tsums:10862\n",
            "10,10,11: \trank=746\tsums:17747\n",
            "10,10,12: \trank=798\tsums:20727\n",
            "10,11,11: \trank=821\tsums:14014\n",
            "10,11,12: \trank=874\tsums:25867\n",
            "10,12,12: \trank=928\tsums:30356\n",
            "11,11,11: \trank=896\tsums:33500\n",
            "11,11,12: \trank=941\tsums:39498\n",
            "11,12,12: \trank=990\tsums:48144\n"
          ]
        }
      ],
      "source": [
        "# Print available factorizations and their shapes.\n",
        "for key in factorizations:\n",
        "  u, v, w = factorizations[key]\n",
        "  rank = u.shape[-1]\n",
        "  assert rank == v.shape[-1] and rank == w.shape[-1]\n",
        "  before_sums = np.count_nonzero(u) + np.count_nonzero(v) - 2*u.shape[1]\n",
        "  after_sums = + np.count_nonzero(w) - w.shape[0]\n",
        "  \n",
        "  print(f'{key}: \\trank={u.shape[-1]}\\tsums:{before_sums+after_sums}')"
      ]
    },
    {
      "cell_type": "markdown",
      "metadata": {
        "id": "PDbovsIXC8-H"
      },
      "source": [
        "Please note that as provided, the factorizations decompose the *symmetrized* version of the matrix multiplication tensor, representing the bilinear operation $\\mathbf{A}, \\mathbf{B} \\mapsto (\\mathbf{A} \\cdot \\mathbf{B})^T$. This is standard in the literature, and factorizations can be easily converted\n",
        "between the symmetrized and non-symmetrized versions."
      ]
    },
    {
      "cell_type": "code",
      "execution_count": 4,
      "metadata": {
        "id": "WZK9ReTpbGUu"
      },
      "outputs": [
        {
          "name": "stdout",
          "output_type": "stream",
          "text": [
            "Factorization is correct in R (standard arithmetic).\n",
            "The computation uses 7 muls and 22 sums (14+8)\n"
          ]
        }
      ],
      "source": [
        "def get_mamu_tensor_rectangular(a: int, b: int, c: int) -> np.ndarray:\n",
        "  \"\"\"Returns the symmetrized matrix multiplication tensor T_{a, b, c}.\"\"\"\n",
        "  result = np.full((a*b, b*c, c*a), 0, dtype=np.int32)\n",
        "  for i in range(a):\n",
        "    for j in range(b):\n",
        "      for k in range(c):\n",
        "        result[i * b  + j][j * c + k][k * a + i] = 1\n",
        "  return result\n",
        "\n",
        "# FACT = (4,4,4)\n",
        "FACT = (2,2,2)\n",
        "\n",
        "# Test correctness of a factorization.\n",
        "tensor = get_mamu_tensor_rectangular(*FACT)\n",
        "u, v, w = factorizations[','.join(str(f) for f in FACT)]\n",
        "reconstruction = np.einsum('ir,jr,kr->ijk', u, v, w)\n",
        "if np.array_equal(tensor, reconstruction):\n",
        "  print('Factorization is correct in R (standard arithmetic).')\n",
        "elif np.array_equal(tensor, np.mod(reconstruction, 2)):\n",
        "  print('Factorization is correct in F2 (modular arithmetic).')\n",
        "else:\n",
        "  print('Factorization is incorrect.')\n",
        "  \n",
        "before_sums = np.count_nonzero(u) + np.count_nonzero(v) - 2*u.shape[1]\n",
        "after_sums = + np.count_nonzero(w) - w.shape[0]\n",
        "print(f'The computation uses {u.shape[1]} muls and {before_sums+after_sums} sums ({before_sums}+{after_sums})')"
      ]
    },
    {
      "cell_type": "code",
      "execution_count": 5,
      "metadata": {
        "id": "75ozbYv50Aeg"
      },
      "outputs": [
        {
          "data": {
            "text/plain": [
              "array([[[1, 0, 0, 0],\n",
              "        [0, 0, 1, 0],\n",
              "        [0, 0, 0, 0],\n",
              "        [0, 0, 0, 0]],\n",
              "\n",
              "       [[0, 0, 0, 0],\n",
              "        [0, 0, 0, 0],\n",
              "        [1, 0, 0, 0],\n",
              "        [0, 0, 1, 0]],\n",
              "\n",
              "       [[0, 1, 0, 0],\n",
              "        [0, 0, 0, 1],\n",
              "        [0, 0, 0, 0],\n",
              "        [0, 0, 0, 0]],\n",
              "\n",
              "       [[0, 0, 0, 0],\n",
              "        [0, 0, 0, 0],\n",
              "        [0, 1, 0, 0],\n",
              "        [0, 0, 0, 1]]], dtype=int32)"
            ]
          },
          "execution_count": 5,
          "metadata": {},
          "output_type": "execute_result"
        }
      ],
      "source": [
        "tensor = get_mamu_tensor_rectangular(2,2,2)\n",
        "tensor"
      ]
    },
    {
      "cell_type": "code",
      "execution_count": 6,
      "metadata": {},
      "outputs": [
        {
          "data": {
            "text/plain": [
              "array([[[ 0,  1,  1,  0,  1,  1,  0],\n",
              "        [ 0,  0, -1,  1,  0,  0,  0],\n",
              "        [ 1,  1,  1,  0,  1,  0,  0],\n",
              "        [-1, -1, -1,  0,  0,  0,  1]],\n",
              "\n",
              "       [[ 0,  0,  0,  0,  1,  1,  0],\n",
              "        [ 1,  1,  0,  0,  1,  0,  1],\n",
              "        [ 0,  1,  1,  1,  1,  0,  0],\n",
              "        [ 0,  1,  1,  0,  1,  0,  1]],\n",
              "\n",
              "       [[ 0,  0,  0,  1,  0,  1,  0],\n",
              "        [ 0, -1,  0,  0,  1, -1, -1],\n",
              "        [-1,  1, -1, -1,  0,  0,  0],\n",
              "        [ 1,  0,  0,  0,  0,  0,  1]]], dtype=int32)"
            ]
          },
          "execution_count": 6,
          "metadata": {},
          "output_type": "execute_result"
        }
      ],
      "source": [
        "factorizations['2,2,2']"
      ]
    },
    {
      "cell_type": "markdown",
      "metadata": {},
      "source": [
        "The einsum expression `ir,jr,kr->ijk` means:\n",
        "\n",
        "$$\\text{reconstruction}_{ijk}=\\sum_i\\sum_j\\sum_k u_{ir}\\cdot v_{jr}\\cdot w_{kr}$$\n",
        "\n",
        "Which is like the decomposition of a tensor:\n",
        "\n",
        "$$\\mathcal{T}=\\sum^R u^{(r)}\\otimes v^{(r)}\\otimes w^{(r)}$$\n",
        "\n",
        "Where $\\otimes$ is the Kronecker product (in this case, equivalent to the outer or tensor product)."
      ]
    },
    {
      "cell_type": "code",
      "execution_count": 7,
      "metadata": {},
      "outputs": [],
      "source": [
        "# for r in range(rank):\n",
        "#     print(u[:,r], v[:,r], w[:,r])"
      ]
    },
    {
      "cell_type": "code",
      "execution_count": 8,
      "metadata": {},
      "outputs": [
        {
          "data": {
            "text/plain": [
              "True"
            ]
          },
          "execution_count": 8,
          "metadata": {},
          "output_type": "execute_result"
        }
      ],
      "source": [
        "u_dim, rank = u.shape\n",
        "v_dim, _ = v.shape\n",
        "w_dim, _ = w.shape\n",
        "\n",
        "reconstruction_manual = np.zeros((u_dim, v_dim, w_dim), dtype=int)\n",
        "for r in range(rank):\n",
        "    reconstruction_manual += np.kron(np.kron(u[:,r], v[:,r]), w[:,r]).reshape(u_dim,v_dim,w_dim)\n",
        "    \n",
        "np.array_equal(tensor, reconstruction_manual)"
      ]
    },
    {
      "cell_type": "markdown",
      "metadata": {},
      "source": [
        "It seems so, now I want to \"reconstruct it\" in the shape of muls and sums... Wish me luck.\n",
        "\n",
        "The *rank* tells the number of multiplications, but, what is the number of aditions?"
      ]
    },
    {
      "cell_type": "markdown",
      "metadata": {},
      "source": [
        "Una operación de multiplicación de matrices de 2x2 puede representarse como un tensor de tamaño 4x4x4 (`tensor` o `reconstruction`). Ese tensor es independiente de las matrices a ser multiplicadas.\n",
        "\n",
        "Voy a implementar el **Algorithm 1** del paper."
      ]
    },
    {
      "cell_type": "code",
      "execution_count": 9,
      "metadata": {},
      "outputs": [
        {
          "data": {
            "text/plain": [
              "'-3a_{4}'"
            ]
          },
          "execution_count": 9,
          "metadata": {},
          "output_type": "execute_result"
        }
      ],
      "source": [
        "def term2tex(i, c, txt):\n",
        "    if c == 0:\n",
        "        return ''\n",
        "    elif c < 0:\n",
        "        c_str = '-'\n",
        "    else:\n",
        "        c_str = ''\n",
        "    \n",
        "    if abs(c) > 1:\n",
        "        c_str += str(abs(c))\n",
        "    \n",
        "    return f'{c_str}{txt}_{{{i}}}'\n",
        "\n",
        "term2tex(4, -3, 'a')"
      ]
    },
    {
      "cell_type": "code",
      "execution_count": 10,
      "metadata": {},
      "outputs": [
        {
          "name": "stdout",
          "output_type": "stream",
          "text": [
            "Total: 7 muls and 22 sums (14/8)\n",
            "\\begin{align*}\n",
            "t_{1} &= (a_{3}-a_{4})b_{2} \\\\\n",
            "t_{2} &= (a_{1}+a_{3}-a_{4})(b_{2}+b_{3}+b_{4}) \\\\\n",
            "t_{3} &= (a_{1}-a_{2}+a_{3}-a_{4})(b_{3}+b_{4}) \\\\\n",
            "t_{4} &= a_{2}b_{3} \\\\\n",
            "t_{5} &= (a_{1}+a_{3})(b_{1}+b_{2}+b_{3}+b_{4}) \\\\\n",
            "t_{6} &= a_{1}b_{1} \\\\\n",
            "t_{7} &= a_{4}(b_{2}+b_{4}) \\\\\n",
            "c_{1} &= t_{4}+t_{6} \\\\\n",
            "c_{2} &= -t_{2}+t_{5}-t_{6}-t_{7} \\\\\n",
            "c_{3} &= -t_{1}+t_{2}-t_{3}-t_{4} \\\\\n",
            "c_{4} &= t_{1}+t_{7}\n",
            "\\end{align*}\n"
          ]
        },
        {
          "data": {
            "text/latex": [
              "\\begin{align*}\n",
              "t_{1} &= (a_{3}-a_{4})b_{2} \\\\\n",
              "t_{2} &= (a_{1}+a_{3}-a_{4})(b_{2}+b_{3}+b_{4}) \\\\\n",
              "t_{3} &= (a_{1}-a_{2}+a_{3}-a_{4})(b_{3}+b_{4}) \\\\\n",
              "t_{4} &= a_{2}b_{3} \\\\\n",
              "t_{5} &= (a_{1}+a_{3})(b_{1}+b_{2}+b_{3}+b_{4}) \\\\\n",
              "t_{6} &= a_{1}b_{1} \\\\\n",
              "t_{7} &= a_{4}(b_{2}+b_{4}) \\\\\n",
              "c_{1} &= t_{4}+t_{6} \\\\\n",
              "c_{2} &= -t_{2}+t_{5}-t_{6}-t_{7} \\\\\n",
              "c_{3} &= -t_{1}+t_{2}-t_{3}-t_{4} \\\\\n",
              "c_{4} &= t_{1}+t_{7}\n",
              "\\end{align*}"
            ],
            "text/plain": [
              "<IPython.core.display.Latex object>"
            ]
          },
          "execution_count": 10,
          "metadata": {},
          "output_type": "execute_result"
        }
      ],
      "source": [
        "from IPython.display import Latex\n",
        "\n",
        "before_sums = 0\n",
        "after_sums = 0\n",
        "\n",
        "t_strings = []\n",
        "for r in range(rank):  \n",
        "    before_sums += np.count_nonzero(u[:,r])-1 + np.count_nonzero(v[:,r])-1\n",
        "    \n",
        "    a_terms = [(i, int(u[i,r])) for i in range(u_dim) if u[i,r] != 0]\n",
        "    b_terms = [(i, int(v[i,r])) for i in range(v_dim) if v[i,r] != 0]\n",
        "    \n",
        "    # TODO: Remove uneeded parens\n",
        "    a_string = '+'.join(term2tex(i+1, ui, 'a') for i, ui in a_terms).replace('+-', '-')\n",
        "    if len(a_terms) != 1:\n",
        "        a_string = ''.join(['(', a_string, ')'])\n",
        "    \n",
        "    b_string = '+'.join(term2tex(i+1, vi, 'b') for i, vi in b_terms).replace('+-', '-')\n",
        "    if len(b_terms) != 1:\n",
        "        b_string = ''.join(['(', b_string, ')'])\n",
        "    \n",
        "    t_strings.append(f\"t_{{{r+1}}} = {a_string}{b_string}\")\n",
        "    \n",
        "for k in range(u_dim):\n",
        "    after_sums += np.count_nonzero(w[k,:])-1\n",
        "    c_terms = [(r, int(w[k,r])) for r in range(rank) if w[k,r] != 0]\n",
        "    # print(c_terms)\n",
        "    c_string = '+'.join(term2tex(r+1, ur, 't') for r, ur in c_terms).replace('+-', '-')\n",
        "\n",
        "    t_strings.append(f\"c_{{{k+1}}} = {c_string}\")\n",
        "    \n",
        "print(f\"Total: {rank} muls and {before_sums+after_sums} sums ({before_sums}/{after_sums})\")\n",
        "\n",
        "tex_code = \"\\\\begin{align*}\\n\"+\" \\\\\\\\\\n\".join(t_strings).replace(' = ', ' &= ')+\"\\n\\\\end{align*}\"\n",
        "print(tex_code)\n",
        "Latex(tex_code)"
      ]
    }
  ],
  "metadata": {
    "colab": {
      "collapsed_sections": [],
      "name": "Explore factorizations",
      "private_outputs": true
    },
    "kernelspec": {
      "display_name": "Python 3",
      "name": "python3"
    },
    "language_info": {
      "name": "python"
    }
  },
  "nbformat": 4,
  "nbformat_minor": 0
}
